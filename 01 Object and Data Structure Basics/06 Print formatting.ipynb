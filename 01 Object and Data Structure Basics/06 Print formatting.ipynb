{
 "cells": [
  {
   "cell_type": "markdown",
   "id": "ce5aa333",
   "metadata": {},
   "source": [
    "Print Formatting with .format() method"
   ]
  },
  {
   "cell_type": "code",
   "execution_count": 1,
   "id": "7eacea6e",
   "metadata": {},
   "outputs": [
    {
     "name": "stdout",
     "output_type": "stream",
     "text": [
      "This is a string INSERTED\n"
     ]
    }
   ],
   "source": [
    "print(\"This is a string {}\".format('INSERTED'))"
   ]
  },
  {
   "cell_type": "code",
   "execution_count": 2,
   "id": "b227f098",
   "metadata": {},
   "outputs": [
    {
     "name": "stdout",
     "output_type": "stream",
     "text": [
      "The fox brown quick\n"
     ]
    }
   ],
   "source": [
    "print(\"The {} {} {}\".format(\"fox\",\"brown\",'quick'))"
   ]
  },
  {
   "cell_type": "code",
   "execution_count": 4,
   "id": "6339570f",
   "metadata": {},
   "outputs": [
    {
     "name": "stdout",
     "output_type": "stream",
     "text": [
      "The fox fox fox\n"
     ]
    }
   ],
   "source": [
    "print('The {0} {0} {0}'.format('fox','brown','quick'))"
   ]
  },
  {
   "cell_type": "code",
   "execution_count": 5,
   "id": "c5f7ec5f",
   "metadata": {},
   "outputs": [
    {
     "name": "stdout",
     "output_type": "stream",
     "text": [
      "The fox brown fox\n"
     ]
    }
   ],
   "source": [
    "print('The {0} {1} {0}'.format('fox','brown','quick'))"
   ]
  },
  {
   "cell_type": "code",
   "execution_count": 9,
   "id": "8fd45c96",
   "metadata": {},
   "outputs": [
    {
     "name": "stdout",
     "output_type": "stream",
     "text": [
      "The fox fox quick\n"
     ]
    }
   ],
   "source": [
    "print('The {f} {f} {q}'.format(f='fox',b='brown',q='quick'))"
   ]
  },
  {
   "cell_type": "code",
   "execution_count": 10,
   "id": "810621b0",
   "metadata": {},
   "outputs": [],
   "source": [
    "result = 100/777"
   ]
  },
  {
   "cell_type": "code",
   "execution_count": 11,
   "id": "6edf709c",
   "metadata": {},
   "outputs": [
    {
     "data": {
      "text/plain": [
       "0.1287001287001287"
      ]
     },
     "execution_count": 11,
     "metadata": {},
     "output_type": "execute_result"
    }
   ],
   "source": [
    "result"
   ]
  },
  {
   "cell_type": "code",
   "execution_count": 13,
   "id": "d0589431",
   "metadata": {},
   "outputs": [
    {
     "name": "stdout",
     "output_type": "stream",
     "text": [
      "The result was 0.1287001287001287\n"
     ]
    }
   ],
   "source": [
    "print('The result was {}'.format(result))"
   ]
  },
  {
   "cell_type": "code",
   "execution_count": 16,
   "id": "ef94eb7a",
   "metadata": {},
   "outputs": [
    {
     "name": "stdout",
     "output_type": "stream",
     "text": [
      "The result was 0.129\n"
     ]
    }
   ],
   "source": [
    "print('The result was {r:0.3f}'.format(r=result))"
   ]
  },
  {
   "cell_type": "code",
   "execution_count": 17,
   "id": "4ed054f0",
   "metadata": {},
   "outputs": [
    {
     "name": "stdout",
     "output_type": "stream",
     "text": [
      "The result was                0.129\n"
     ]
    }
   ],
   "source": [
    "print('The result was {r:20.3f}'.format(r=result))"
   ]
  },
  {
   "cell_type": "code",
   "execution_count": 18,
   "id": "f5aa2e75",
   "metadata": {},
   "outputs": [
    {
     "name": "stdout",
     "output_type": "stream",
     "text": [
      "The result was      0.129\n"
     ]
    }
   ],
   "source": [
    "print('The result was {r:10.3f}'.format(r=result))"
   ]
  },
  {
   "cell_type": "code",
   "execution_count": 19,
   "id": "965f669f",
   "metadata": {},
   "outputs": [
    {
     "name": "stdout",
     "output_type": "stream",
     "text": [
      "The result was 0.1287\n"
     ]
    }
   ],
   "source": [
    "print('The result was {r:0.4f}'.format(r=result))"
   ]
  },
  {
   "cell_type": "code",
   "execution_count": 21,
   "id": "ffff4396",
   "metadata": {},
   "outputs": [
    {
     "name": "stdout",
     "output_type": "stream",
     "text": [
      "The result was 0.12870\n"
     ]
    }
   ],
   "source": [
    "print('The result was {r:0.5f}'.format(r=result))"
   ]
  },
  {
   "cell_type": "code",
   "execution_count": 22,
   "id": "4613363c",
   "metadata": {},
   "outputs": [],
   "source": [
    "result = 104.12345"
   ]
  },
  {
   "cell_type": "code",
   "execution_count": 25,
   "id": "c8e05df2",
   "metadata": {},
   "outputs": [
    {
     "name": "stdout",
     "output_type": "stream",
     "text": [
      "The result was 104.12345\n"
     ]
    }
   ],
   "source": [
    "print('The result was {r:1.5f}'.format(r=result))"
   ]
  },
  {
   "cell_type": "markdown",
   "id": "45e922dc",
   "metadata": {},
   "source": [
    "Print Formatting with f-string method"
   ]
  },
  {
   "cell_type": "code",
   "execution_count": 26,
   "id": "ea415398",
   "metadata": {},
   "outputs": [],
   "source": [
    "name='Jose'"
   ]
  },
  {
   "cell_type": "code",
   "execution_count": 27,
   "id": "cfed5c2c",
   "metadata": {},
   "outputs": [
    {
     "name": "stdout",
     "output_type": "stream",
     "text": [
      "Hello, his name is Jose\n"
     ]
    }
   ],
   "source": [
    "print(f\"Hello, his name is {name}\")"
   ]
  },
  {
   "cell_type": "code",
   "execution_count": 29,
   "id": "1f732b95",
   "metadata": {},
   "outputs": [
    {
     "name": "stdout",
     "output_type": "stream",
     "text": [
      "Sam is 3 years old.\n"
     ]
    }
   ],
   "source": [
    "name= \"Sam\"\n",
    "age = 3\n",
    "print(f\"{name} is {age} years old.\")"
   ]
  },
  {
   "cell_type": "code",
   "execution_count": null,
   "id": "3b633978",
   "metadata": {},
   "outputs": [],
   "source": []
  }
 ],
 "metadata": {
  "kernelspec": {
   "display_name": "Python 3 (ipykernel)",
   "language": "python",
   "name": "python3"
  },
  "language_info": {
   "codemirror_mode": {
    "name": "ipython",
    "version": 3
   },
   "file_extension": ".py",
   "mimetype": "text/x-python",
   "name": "python",
   "nbconvert_exporter": "python",
   "pygments_lexer": "ipython3",
   "version": "3.9.13"
  }
 },
 "nbformat": 4,
 "nbformat_minor": 5
}
