{
 "cells": [
  {
   "cell_type": "code",
   "execution_count": 39,
   "id": "9ddd118d",
   "metadata": {},
   "outputs": [],
   "source": [
    "def num(number,your_number):\n",
    "    list_num=0\n",
    "    number_len= len(number)\n",
    "    #number_count = []\n",
    "    for item in number:\n",
    "        list_num = list_num+item\n",
    "    math = list_num/number_len\n",
    "    \n",
    "    if math<=your_number:\n",
    "        return True\n",
    "    else:\n",
    "        return False\n",
    "    \"\"\"print(math)\n",
    "    print (list_num)\n",
    "    print(number_len)\"\"\""
   ]
  },
  {
   "cell_type": "code",
   "execution_count": 43,
   "id": "ce798d95",
   "metadata": {},
   "outputs": [
    {
     "data": {
      "text/plain": [
       "False"
      ]
     },
     "execution_count": 43,
     "metadata": {},
     "output_type": "execute_result"
    }
   ],
   "source": [
    "num([41, 75, 72, 56, 80, 82, 81, 33], 50)"
   ]
  },
  {
   "cell_type": "code",
   "execution_count": 10,
   "id": "37b97a0d",
   "metadata": {},
   "outputs": [],
   "source": [
    "number= [1,2,3,4]"
   ]
  },
  {
   "cell_type": "code",
   "execution_count": 11,
   "id": "5c033e86",
   "metadata": {},
   "outputs": [
    {
     "data": {
      "text/plain": [
       "4"
      ]
     },
     "execution_count": 11,
     "metadata": {},
     "output_type": "execute_result"
    }
   ],
   "source": [
    "len(number)"
   ]
  },
  {
   "cell_type": "code",
   "execution_count": 23,
   "id": "4624f826",
   "metadata": {},
   "outputs": [],
   "source": [
    "def length(num):\n",
    "    result= len(num)\n",
    "    return result"
   ]
  },
  {
   "cell_type": "code",
   "execution_count": 24,
   "id": "b171ca92",
   "metadata": {},
   "outputs": [
    {
     "data": {
      "text/plain": [
       "4"
      ]
     },
     "execution_count": 24,
     "metadata": {},
     "output_type": "execute_result"
    }
   ],
   "source": [
    "length([1,2,3,4])"
   ]
  },
  {
   "cell_type": "code",
   "execution_count": 50,
   "id": "60eea9c0",
   "metadata": {},
   "outputs": [],
   "source": [
    "def sum_cal(num):\n",
    "    cal=0\n",
    "    count = len(num)\n",
    "    for item in num:\n",
    "        cal= cal+item\n",
    "    math = cal/count\n",
    "    print(count)\n",
    "    print(math)\n",
    "    return cal"
   ]
  },
  {
   "cell_type": "code",
   "execution_count": 51,
   "id": "be4fea71",
   "metadata": {},
   "outputs": [
    {
     "name": "stdout",
     "output_type": "stream",
     "text": [
      "8\n",
      "65.0\n"
     ]
    },
    {
     "data": {
      "text/plain": [
       "520"
      ]
     },
     "execution_count": 51,
     "metadata": {},
     "output_type": "execute_result"
    }
   ],
   "source": [
    "sum_cal([41, 75, 72, 56, 80, 82, 81, 33])"
   ]
  },
  {
   "cell_type": "code",
   "execution_count": 67,
   "id": "8cc05889",
   "metadata": {},
   "outputs": [],
   "source": [
    "def sum_cal(num,your_points):\n",
    "    return sum(num)/len(num) <=your_points"
   ]
  },
  {
   "cell_type": "code",
   "execution_count": 69,
   "id": "c19ba087",
   "metadata": {},
   "outputs": [
    {
     "data": {
      "text/plain": [
       "True"
      ]
     },
     "execution_count": 69,
     "metadata": {},
     "output_type": "execute_result"
    }
   ],
   "source": [
    "sum_cal([41, 75, 72, 56, 80, 82, 81, 33],65)"
   ]
  },
  {
   "cell_type": "code",
   "execution_count": 1,
   "id": "e27fddb0",
   "metadata": {},
   "outputs": [],
   "source": [
    "#Simple Browser from chatGPT\n",
    "\n",
    "import tkinter as tk\n",
    "import webbrowser\n",
    "\n",
    "class Application(tk.Frame):\n",
    "    def __init__(self, master=None):\n",
    "        super().__init__(master)\n",
    "        self.pack()\n",
    "        self.create_widgets()\n",
    "\n",
    "    def create_widgets(self):\n",
    "        self.entry = tk.Entry(self)\n",
    "        self.entry.pack()\n",
    "        \n",
    "        self.submit = tk.Button(self, text=\"Open\", command=self.open_url)\n",
    "        self.submit.pack()\n",
    "\n",
    "    def open_url(self):\n",
    "        url = self.entry.get()\n",
    "        webbrowser.open(url)\n",
    "\n",
    "root = tk.Tk()\n",
    "app = Application(master=root)\n",
    "app.mainloop()\n"
   ]
  },
  {
   "cell_type": "code",
   "execution_count": null,
   "id": "3d8071ff",
   "metadata": {},
   "outputs": [],
   "source": []
  }
 ],
 "metadata": {
  "kernelspec": {
   "display_name": "Python 3 (ipykernel)",
   "language": "python",
   "name": "python3"
  },
  "language_info": {
   "codemirror_mode": {
    "name": "ipython",
    "version": 3
   },
   "file_extension": ".py",
   "mimetype": "text/x-python",
   "name": "python",
   "nbconvert_exporter": "python",
   "pygments_lexer": "ipython3",
   "version": "3.9.13"
  }
 },
 "nbformat": 4,
 "nbformat_minor": 5
}
