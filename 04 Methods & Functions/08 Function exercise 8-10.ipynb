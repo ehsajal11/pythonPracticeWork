{
 "cells": [
  {
   "cell_type": "code",
   "execution_count": 1,
   "id": "a8f7a9bb",
   "metadata": {},
   "outputs": [],
   "source": [
    "def myfunc(*args):\n",
    "    return sum(args)"
   ]
  },
  {
   "cell_type": "code",
   "execution_count": 12,
   "id": "ced2426b",
   "metadata": {},
   "outputs": [],
   "source": [
    "def myfunc(*args):\n",
    "    a = []\n",
    "    for num in args:\n",
    "        if num%2==0:\n",
    "            a.append(num)\n",
    "    return a"
   ]
  },
  {
   "cell_type": "code",
   "execution_count": 13,
   "id": "a77aec36",
   "metadata": {},
   "outputs": [
    {
     "data": {
      "text/plain": [
       "[2, 4, 6]"
      ]
     },
     "execution_count": 13,
     "metadata": {},
     "output_type": "execute_result"
    }
   ],
   "source": [
    "myfunc(1,2,3,4,5,6,7)"
   ]
  },
  {
   "cell_type": "code",
   "execution_count": 61,
   "id": "f5fb40ec",
   "metadata": {},
   "outputs": [],
   "source": [
    "def myfunc(word):\n",
    "    letter = []\n",
    "    for i in range(len(word)):\n",
    "        if i%2==0:\n",
    "            letter.append(word[i].upper())\n",
    "        else:\n",
    "            letter.append(word[i].lower())\n",
    "    return ''.join(letter)"
   ]
  },
  {
   "cell_type": "code",
   "execution_count": 62,
   "id": "fb3baf41",
   "metadata": {},
   "outputs": [
    {
     "data": {
      "text/plain": [
       "'WoRd'"
      ]
     },
     "execution_count": 62,
     "metadata": {},
     "output_type": "execute_result"
    }
   ],
   "source": [
    "myfunc('word')"
   ]
  },
  {
   "cell_type": "code",
   "execution_count": 109,
   "id": "57905fe3",
   "metadata": {},
   "outputs": [],
   "source": [
    "def myfunc(name):\n",
    "    letter = []\n",
    "    for i in range(len(name)):\n",
    "        if i%2==0:\n",
    "            letter.append(name[i].upper())\n",
    "        else:\n",
    "            letter.append(name[i].lower())\n",
    "    return ''.join(letter)"
   ]
  },
  {
   "cell_type": "code",
   "execution_count": 110,
   "id": "9bc3e6f4",
   "metadata": {},
   "outputs": [
    {
     "data": {
      "text/plain": [
       "'AbCdEfGhIj'"
      ]
     },
     "execution_count": 110,
     "metadata": {},
     "output_type": "execute_result"
    }
   ],
   "source": [
    "myfunc('abcdefghij')"
   ]
  },
  {
   "cell_type": "code",
   "execution_count": 95,
   "id": "db0b4d8e",
   "metadata": {},
   "outputs": [],
   "source": [
    "ab = 'hello'"
   ]
  },
  {
   "cell_type": "code",
   "execution_count": 111,
   "id": "d9ed6b84",
   "metadata": {},
   "outputs": [],
   "source": [
    "def myfunc(word):\n",
    "    new_word = ''\n",
    "    index = 1\n",
    "    for element in word:\n",
    "        if index % 2 == 0:\n",
    "            new_word = new_word + element.upper()\n",
    "        else:\n",
    "            new_word = new_word + element.lower()\n",
    "        index +=1\n",
    "    return new_word"
   ]
  },
  {
   "cell_type": "code",
   "execution_count": 112,
   "id": "dedd7d0b",
   "metadata": {},
   "outputs": [
    {
     "data": {
      "text/plain": [
       "'aBcDeFgHiJ'"
      ]
     },
     "execution_count": 112,
     "metadata": {},
     "output_type": "execute_result"
    }
   ],
   "source": [
    "myfunc('abcdefghij')"
   ]
  },
  {
   "cell_type": "code",
   "execution_count": 13,
   "id": "462909f4",
   "metadata": {},
   "outputs": [
    {
     "data": {
      "text/plain": [
       "'HELLO'"
      ]
     },
     "execution_count": 13,
     "metadata": {},
     "output_type": "execute_result"
    }
   ],
   "source": [
    "ab.upper()"
   ]
  },
  {
   "cell_type": "code",
   "execution_count": 41,
   "id": "e0f2fdcf",
   "metadata": {},
   "outputs": [
    {
     "data": {
      "text/plain": [
       "'HLO'"
      ]
     },
     "execution_count": 41,
     "metadata": {},
     "output_type": "execute_result"
    }
   ],
   "source": [
    "ab[0::2].upper()"
   ]
  },
  {
   "cell_type": "code",
   "execution_count": 2,
   "id": "65ceafb7",
   "metadata": {},
   "outputs": [],
   "source": [
    "a = 'Hello World'"
   ]
  },
  {
   "cell_type": "code",
   "execution_count": 48,
   "id": "f6cf6379",
   "metadata": {},
   "outputs": [
    {
     "ename": "SyntaxError",
     "evalue": "invalid syntax (1737376096.py, line 2)",
     "output_type": "error",
     "traceback": [
      "\u001b[1;36m  File \u001b[1;32m\"C:\\Users\\Enamul Haque Sajal\\AppData\\Local\\Temp\\ipykernel_7556\\1737376096.py\"\u001b[1;36m, line \u001b[1;32m2\u001b[0m\n\u001b[1;33m    for word[1]:\u001b[0m\n\u001b[1;37m               ^\u001b[0m\n\u001b[1;31mSyntaxError\u001b[0m\u001b[1;31m:\u001b[0m invalid syntax\n"
     ]
    }
   ],
   "source": [
    "for word in a:"
   ]
  },
  {
   "cell_type": "code",
   "execution_count": null,
   "id": "4cdb7a3f",
   "metadata": {},
   "outputs": [],
   "source": [
    "while a[1]:\n",
    "    \n",
    "    \n",
    "print(a)"
   ]
  },
  {
   "cell_type": "code",
   "execution_count": 52,
   "id": "9cbd6904",
   "metadata": {},
   "outputs": [],
   "source": [
    "def myfunc(*args):\n",
    "    ab = []\n",
    "    for num in args:\n",
    "        if num%2==0:\n",
    "            ab.append(num)\n",
    "    return ab"
   ]
  },
  {
   "cell_type": "code",
   "execution_count": 53,
   "id": "2b3ef5f7",
   "metadata": {},
   "outputs": [
    {
     "data": {
      "text/plain": [
       "[2, 4, 6, 8]"
      ]
     },
     "execution_count": 53,
     "metadata": {},
     "output_type": "execute_result"
    }
   ],
   "source": [
    "myfunc(1,2,3,4,5,6,7,8)"
   ]
  },
  {
   "cell_type": "code",
   "execution_count": 40,
   "id": "e536ddb1",
   "metadata": {},
   "outputs": [],
   "source": [
    "def myfunc(*args):\n",
    "    return [x for x in args if x%2 ==0]"
   ]
  },
  {
   "cell_type": "code",
   "execution_count": 41,
   "id": "a1d73d80",
   "metadata": {},
   "outputs": [
    {
     "data": {
      "text/plain": [
       "[2, 4, 6, 8]"
      ]
     },
     "execution_count": 41,
     "metadata": {},
     "output_type": "execute_result"
    }
   ],
   "source": [
    "myfunc(1,2,3,4,5,6,7,8)"
   ]
  },
  {
   "cell_type": "code",
   "execution_count": null,
   "id": "1744efd1",
   "metadata": {},
   "outputs": [],
   "source": []
  }
 ],
 "metadata": {
  "kernelspec": {
   "display_name": "Python 3 (ipykernel)",
   "language": "python",
   "name": "python3"
  },
  "language_info": {
   "codemirror_mode": {
    "name": "ipython",
    "version": 3
   },
   "file_extension": ".py",
   "mimetype": "text/x-python",
   "name": "python",
   "nbconvert_exporter": "python",
   "pygments_lexer": "ipython3",
   "version": "3.9.13"
  }
 },
 "nbformat": 4,
 "nbformat_minor": 5
}
