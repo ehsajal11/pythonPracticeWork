{
 "cells": [
  {
   "cell_type": "code",
   "execution_count": 19,
   "id": "a260068f",
   "metadata": {},
   "outputs": [],
   "source": [
    "def splicer(string):\n",
    "    print(string[0])\n",
    "    for i in range(0,len(string)):\n",
    "        if i%2==0:\n",
    "            return 'even'\n",
    "    else:\n",
    "        return 'Bust'"
   ]
  },
  {
   "cell_type": "code",
   "execution_count": 21,
   "id": "7871bc91",
   "metadata": {},
   "outputs": [
    {
     "name": "stdout",
     "output_type": "stream",
     "text": [
      "Andy\n"
     ]
    },
    {
     "data": {
      "text/plain": [
       "'even'"
      ]
     },
     "execution_count": 21,
     "metadata": {},
     "output_type": "execute_result"
    }
   ],
   "source": [
    "splicer(['Andy', 'Eve', 'Sally','Huck'])"
   ]
  },
  {
   "cell_type": "code",
   "execution_count": 62,
   "id": "baa913eb",
   "metadata": {},
   "outputs": [],
   "source": [
    "def converter(num):\n",
    "    number=[]\n",
    "    for letter in num:\n",
    "        if len(letter)%2==0:\n",
    "            number.append('even')\n",
    "        else:\n",
    "            number.append(letter[0])\n",
    "    return number"
   ]
  },
  {
   "cell_type": "code",
   "execution_count": 63,
   "id": "7a50b74a",
   "metadata": {},
   "outputs": [
    {
     "data": {
      "text/plain": [
       "['even', 'E', 'S', 'even']"
      ]
     },
     "execution_count": 63,
     "metadata": {},
     "output_type": "execute_result"
    }
   ],
   "source": [
    "converter(['Andy', 'Eve', 'Sally','Huck'])"
   ]
  },
  {
   "cell_type": "code",
   "execution_count": 45,
   "id": "48412417",
   "metadata": {},
   "outputs": [],
   "source": []
  },
  {
   "cell_type": "code",
   "execution_count": 49,
   "id": "a49c15ec",
   "metadata": {},
   "outputs": [
    {
     "ename": "SyntaxError",
     "evalue": "'return' outside function (3549670597.py, line 3)",
     "output_type": "error",
     "traceback": [
      "\u001b[1;36m  File \u001b[1;32m\"C:\\Users\\Enamul Haque Sajal\\AppData\\Local\\Temp\\ipykernel_8884\\3549670597.py\"\u001b[1;36m, line \u001b[1;32m3\u001b[0m\n\u001b[1;33m    return num\u001b[0m\n\u001b[1;37m    ^\u001b[0m\n\u001b[1;31mSyntaxError\u001b[0m\u001b[1;31m:\u001b[0m 'return' outside function\n"
     ]
    }
   ],
   "source": [
    "num = [1,2,3,4,5,6,7,8]\n",
    "if num%2==0:\n",
    "    return num\n",
    "else:\n",
    "    pass"
   ]
  },
  {
   "cell_type": "code",
   "execution_count": 50,
   "id": "0ac87e3a",
   "metadata": {},
   "outputs": [
    {
     "data": {
      "text/plain": [
       "'j'"
      ]
     },
     "execution_count": 50,
     "metadata": {},
     "output_type": "execute_result"
    }
   ],
   "source": [
    "name ='sajal'\n",
    "nu = list(name)\n",
    "nu[2]"
   ]
  },
  {
   "cell_type": "code",
   "execution_count": 30,
   "id": "bc7b23db",
   "metadata": {},
   "outputs": [],
   "source": [
    "names = ['Andy', 'Eve', 'Sally','Huck']"
   ]
  },
  {
   "cell_type": "code",
   "execution_count": 31,
   "id": "8ce1c228",
   "metadata": {},
   "outputs": [
    {
     "data": {
      "text/plain": [
       "['Even', 'Even', 'Even', 'Even']"
      ]
     },
     "execution_count": 31,
     "metadata": {},
     "output_type": "execute_result"
    }
   ],
   "source": [
    "list(map(splicer,names))"
   ]
  },
  {
   "cell_type": "code",
   "execution_count": 41,
   "id": "313b91f2",
   "metadata": {},
   "outputs": [],
   "source": [
    "def splicer(string):\n",
    "    for i in range(0,len(string)):\n",
    "        if i%2==0:\n",
    "            return 'Even'\n",
    "        elif i%2!=0:\n",
    "            return i[0]\n",
    "        #eturn i[0]"
   ]
  },
  {
   "cell_type": "code",
   "execution_count": 42,
   "id": "7412eabb",
   "metadata": {},
   "outputs": [
    {
     "data": {
      "text/plain": [
       "'Even'"
      ]
     },
     "execution_count": 42,
     "metadata": {},
     "output_type": "execute_result"
    }
   ],
   "source": [
    "splicer(['Andy', 'Eve', 'Sally','Huck'])"
   ]
  },
  {
   "cell_type": "code",
   "execution_count": 75,
   "id": "2295a5e2",
   "metadata": {},
   "outputs": [],
   "source": [
    "def even(string):\n",
    "    for i in range(0,len(string)):\n",
    "        if i%2 == 0:\n",
    "            return i\n",
    "        #else:\n",
    "        return i[0]"
   ]
  },
  {
   "cell_type": "code",
   "execution_count": 76,
   "id": "607fae83",
   "metadata": {},
   "outputs": [
    {
     "data": {
      "text/plain": [
       "0"
      ]
     },
     "execution_count": 76,
     "metadata": {},
     "output_type": "execute_result"
    }
   ],
   "source": [
    "even(['Andy', 'Eve', 'Sally','Huck'])"
   ]
  },
  {
   "cell_type": "code",
   "execution_count": 49,
   "id": "35876092",
   "metadata": {},
   "outputs": [],
   "source": [
    "def even(string):\n",
    "    for i in range(string):\n",
    "        return i"
   ]
  },
  {
   "cell_type": "code",
   "execution_count": 50,
   "id": "7ad20a1d",
   "metadata": {},
   "outputs": [
    {
     "ename": "TypeError",
     "evalue": "'list' object cannot be interpreted as an integer",
     "output_type": "error",
     "traceback": [
      "\u001b[1;31m---------------------------------------------------------------------------\u001b[0m",
      "\u001b[1;31mTypeError\u001b[0m                                 Traceback (most recent call last)",
      "\u001b[1;32m~\\AppData\\Local\\Temp\\ipykernel_12120\\2565928304.py\u001b[0m in \u001b[0;36m<module>\u001b[1;34m\u001b[0m\n\u001b[1;32m----> 1\u001b[1;33m \u001b[0meven\u001b[0m\u001b[1;33m(\u001b[0m\u001b[1;33m[\u001b[0m\u001b[1;34m'Andy'\u001b[0m\u001b[1;33m,\u001b[0m \u001b[1;34m'Eve'\u001b[0m\u001b[1;33m,\u001b[0m \u001b[1;34m'Sally'\u001b[0m\u001b[1;33m,\u001b[0m\u001b[1;34m'Huck'\u001b[0m\u001b[1;33m]\u001b[0m\u001b[1;33m)\u001b[0m\u001b[1;33m\u001b[0m\u001b[1;33m\u001b[0m\u001b[0m\n\u001b[0m",
      "\u001b[1;32m~\\AppData\\Local\\Temp\\ipykernel_12120\\4088339957.py\u001b[0m in \u001b[0;36meven\u001b[1;34m(string)\u001b[0m\n\u001b[0;32m      1\u001b[0m \u001b[1;32mdef\u001b[0m \u001b[0meven\u001b[0m\u001b[1;33m(\u001b[0m\u001b[0mstring\u001b[0m\u001b[1;33m)\u001b[0m\u001b[1;33m:\u001b[0m\u001b[1;33m\u001b[0m\u001b[1;33m\u001b[0m\u001b[0m\n\u001b[1;32m----> 2\u001b[1;33m     \u001b[1;32mfor\u001b[0m \u001b[0mi\u001b[0m \u001b[1;32min\u001b[0m \u001b[0mrange\u001b[0m\u001b[1;33m(\u001b[0m\u001b[0mstring\u001b[0m\u001b[1;33m)\u001b[0m\u001b[1;33m:\u001b[0m\u001b[1;33m\u001b[0m\u001b[1;33m\u001b[0m\u001b[0m\n\u001b[0m\u001b[0;32m      3\u001b[0m         \u001b[1;32mreturn\u001b[0m \u001b[0mi\u001b[0m\u001b[1;33m\u001b[0m\u001b[1;33m\u001b[0m\u001b[0m\n",
      "\u001b[1;31mTypeError\u001b[0m: 'list' object cannot be interpreted as an integer"
     ]
    }
   ],
   "source": [
    "even(['Andy', 'Eve', 'Sally','Huck'])"
   ]
  },
  {
   "cell_type": "code",
   "execution_count": 69,
   "id": "122bdee9",
   "metadata": {},
   "outputs": [
    {
     "name": "stdout",
     "output_type": "stream",
     "text": [
      "5\n",
      "6\n",
      "7\n",
      "8\n",
      "9\n",
      "10\n",
      "11\n",
      "12\n",
      "13\n"
     ]
    }
   ],
   "source": [
    "#num = 10\n",
    "for i in range(3,12):\n",
    "    print(i+2)"
   ]
  },
  {
   "cell_type": "code",
   "execution_count": 65,
   "id": "55119b61",
   "metadata": {},
   "outputs": [
    {
     "data": {
      "text/plain": [
       "6"
      ]
     },
     "execution_count": 65,
     "metadata": {},
     "output_type": "execute_result"
    }
   ],
   "source": [
    "nums = 'abcdef'\n",
    "len(nums)\n"
   ]
  },
  {
   "cell_type": "code",
   "execution_count": 71,
   "id": "30329d3c",
   "metadata": {},
   "outputs": [],
   "source": [
    "def converter(num):\n",
    "    word=[]\n",
    "    for i in num:\n",
    "        if len(i)%2==0:\n",
    "            word.append(i)\n",
    "        else:\n",
    "            word.append(i[0])\n",
    "    return word"
   ]
  },
  {
   "cell_type": "code",
   "execution_count": 72,
   "id": "159ab636",
   "metadata": {},
   "outputs": [
    {
     "data": {
      "text/plain": [
       "['Andy', 'E', 'S', 'Huck']"
      ]
     },
     "execution_count": 72,
     "metadata": {},
     "output_type": "execute_result"
    }
   ],
   "source": [
    "converter(['Andy', 'Eve', 'Sally','Huck'])"
   ]
  },
  {
   "cell_type": "code",
   "execution_count": 91,
   "id": "1e846395",
   "metadata": {},
   "outputs": [],
   "source": [
    "def square(num):\n",
    "    return num**2"
   ]
  },
  {
   "cell_type": "code",
   "execution_count": 92,
   "id": "214139bc",
   "metadata": {},
   "outputs": [],
   "source": [
    "my = [1,2,3,4]"
   ]
  },
  {
   "cell_type": "code",
   "execution_count": 93,
   "id": "b3ef6593",
   "metadata": {},
   "outputs": [
    {
     "data": {
      "text/plain": [
       "[1, 4, 9, 16]"
      ]
     },
     "execution_count": 93,
     "metadata": {},
     "output_type": "execute_result"
    }
   ],
   "source": [
    "list(map(square,my))"
   ]
  },
  {
   "cell_type": "code",
   "execution_count": null,
   "id": "a1790969",
   "metadata": {},
   "outputs": [],
   "source": []
  },
  {
   "cell_type": "code",
   "execution_count": 84,
   "id": "c2083ef7",
   "metadata": {},
   "outputs": [],
   "source": [
    "def square(num):\n",
    "    my_list = []\n",
    "    for i in num:\n",
    "        my_list.append(i**2)\n",
    "    return my_list"
   ]
  },
  {
   "cell_type": "code",
   "execution_count": 85,
   "id": "ff026198",
   "metadata": {},
   "outputs": [
    {
     "data": {
      "text/plain": [
       "[1, 4, 9, 16]"
      ]
     },
     "execution_count": 85,
     "metadata": {},
     "output_type": "execute_result"
    }
   ],
   "source": [
    "square(my)"
   ]
  },
  {
   "cell_type": "code",
   "execution_count": 98,
   "id": "b1c3f344",
   "metadata": {},
   "outputs": [],
   "source": [
    "def splicer(mystring):\n",
    "    if len(mystring)%2==0:\n",
    "        return 'Even'\n",
    "    else:\n",
    "        return mystring[0]"
   ]
  },
  {
   "cell_type": "code",
   "execution_count": 99,
   "id": "3e06b691",
   "metadata": {},
   "outputs": [],
   "source": [
    "names=['Andy','Eve','Hun','Huck']"
   ]
  },
  {
   "cell_type": "code",
   "execution_count": 100,
   "id": "ef1b682b",
   "metadata": {},
   "outputs": [
    {
     "data": {
      "text/plain": [
       "'Even'"
      ]
     },
     "execution_count": 100,
     "metadata": {},
     "output_type": "execute_result"
    }
   ],
   "source": [
    "splicer(names)"
   ]
  },
  {
   "cell_type": "code",
   "execution_count": 101,
   "id": "3bd7a462",
   "metadata": {},
   "outputs": [
    {
     "data": {
      "text/plain": [
       "['Even', 'E', 'H', 'Even']"
      ]
     },
     "execution_count": 101,
     "metadata": {},
     "output_type": "execute_result"
    }
   ],
   "source": [
    "list(map(splicer,names))"
   ]
  },
  {
   "cell_type": "code",
   "execution_count": 102,
   "id": "f159e50e",
   "metadata": {},
   "outputs": [],
   "source": [
    "def splicer(mystring):\n",
    "    word=[]\n",
    "    for i in mystring:\n",
    "        if len(i)%2==0:\n",
    "            word.append('Even')\n",
    "        else:\n",
    "            word.append(i[0])\n",
    "    return word"
   ]
  },
  {
   "cell_type": "code",
   "execution_count": 103,
   "id": "bdf970be",
   "metadata": {},
   "outputs": [
    {
     "data": {
      "text/plain": [
       "['Even', 'E', 'H', 'Even']"
      ]
     },
     "execution_count": 103,
     "metadata": {},
     "output_type": "execute_result"
    }
   ],
   "source": [
    "splicer(names)"
   ]
  },
  {
   "cell_type": "code",
   "execution_count": 104,
   "id": "dea565f9",
   "metadata": {},
   "outputs": [],
   "source": [
    "def check_even(num):\n",
    "    return num%2==0"
   ]
  },
  {
   "cell_type": "code",
   "execution_count": 105,
   "id": "ccd7748c",
   "metadata": {},
   "outputs": [],
   "source": [
    "mynums=[1,2,3,4,5,6,7]"
   ]
  },
  {
   "cell_type": "code",
   "execution_count": 106,
   "id": "080e6fbc",
   "metadata": {},
   "outputs": [
    {
     "data": {
      "text/plain": [
       "[False, True, False, True, False, True, False]"
      ]
     },
     "execution_count": 106,
     "metadata": {},
     "output_type": "execute_result"
    }
   ],
   "source": [
    "list(map(check_even,mynums))"
   ]
  },
  {
   "cell_type": "code",
   "execution_count": 107,
   "id": "edffec1a",
   "metadata": {},
   "outputs": [
    {
     "data": {
      "text/plain": [
       "[2, 4, 6]"
      ]
     },
     "execution_count": 107,
     "metadata": {},
     "output_type": "execute_result"
    }
   ],
   "source": [
    "list(filter(check_even,mynums))"
   ]
  },
  {
   "cell_type": "code",
   "execution_count": 109,
   "id": "12c6bb6d",
   "metadata": {},
   "outputs": [],
   "source": [
    "def square(num):\n",
    "    result = num**2\n",
    "    return result"
   ]
  },
  {
   "cell_type": "code",
   "execution_count": null,
   "id": "e466c1a5",
   "metadata": {},
   "outputs": [],
   "source": []
  }
 ],
 "metadata": {
  "kernelspec": {
   "display_name": "Python 3 (ipykernel)",
   "language": "python",
   "name": "python3"
  },
  "language_info": {
   "codemirror_mode": {
    "name": "ipython",
    "version": 3
   },
   "file_extension": ".py",
   "mimetype": "text/x-python",
   "name": "python",
   "nbconvert_exporter": "python",
   "pygments_lexer": "ipython3",
   "version": "3.9.13"
  }
 },
 "nbformat": 4,
 "nbformat_minor": 5
}
