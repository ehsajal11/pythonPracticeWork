{
 "cells": [
  {
   "cell_type": "code",
   "execution_count": 1,
   "id": "af2f3c9b",
   "metadata": {},
   "outputs": [],
   "source": [
    "def vol(rad):\n",
    "    value = (4/3)*3.14*rad**3\n",
    "    return value"
   ]
  },
  {
   "cell_type": "code",
   "execution_count": 2,
   "id": "ea75958d",
   "metadata": {},
   "outputs": [
    {
     "data": {
      "text/plain": [
       "33.49333333333333"
      ]
     },
     "execution_count": 2,
     "metadata": {},
     "output_type": "execute_result"
    }
   ],
   "source": [
    "vol(2)"
   ]
  },
  {
   "cell_type": "code",
   "execution_count": 10,
   "id": "1af254d0",
   "metadata": {},
   "outputs": [],
   "source": [
    "def ran_check(num,low,high):\n",
    "    if num<=high and num>=low:\n",
    "        print(f'{num} is in the range between {low} and {high}')\n",
    "    else:\n",
    "        print('Number is not in range')"
   ]
  },
  {
   "cell_type": "code",
   "execution_count": 11,
   "id": "3afd6fa2",
   "metadata": {},
   "outputs": [
    {
     "name": "stdout",
     "output_type": "stream",
     "text": [
      "5 is in the range between 2 and 7\n"
     ]
    }
   ],
   "source": [
    "ran_check(5,2,7)"
   ]
  },
  {
   "cell_type": "code",
   "execution_count": 8,
   "id": "fdfb556d",
   "metadata": {},
   "outputs": [
    {
     "name": "stdout",
     "output_type": "stream",
     "text": [
      "abcd\n"
     ]
    }
   ],
   "source": [
    "num = 'abcd'\n",
    "print(num)"
   ]
  },
  {
   "cell_type": "code",
   "execution_count": 14,
   "id": "171efeec",
   "metadata": {},
   "outputs": [
    {
     "name": "stdout",
     "output_type": "stream",
     "text": [
      "Number is not in range\n"
     ]
    }
   ],
   "source": [
    "ran_check(5,8,11)"
   ]
  },
  {
   "cell_type": "code",
   "execution_count": 15,
   "id": "c834ec8c",
   "metadata": {},
   "outputs": [],
   "source": [
    "def ran_check(num,low,high):\n",
    "    if num<=high and num>=low:\n",
    "        #print(f'{num} is in the range between {low} and {high}')\n",
    "        return True\n",
    "    else:\n",
    "        return False"
   ]
  },
  {
   "cell_type": "code",
   "execution_count": 16,
   "id": "cb0d6699",
   "metadata": {},
   "outputs": [
    {
     "data": {
      "text/plain": [
       "True"
      ]
     },
     "execution_count": 16,
     "metadata": {},
     "output_type": "execute_result"
    }
   ],
   "source": [
    "ran_check(5,2,7)"
   ]
  },
  {
   "cell_type": "code",
   "execution_count": 17,
   "id": "53719d4e",
   "metadata": {},
   "outputs": [
    {
     "data": {
      "text/plain": [
       "False"
      ]
     },
     "execution_count": 17,
     "metadata": {},
     "output_type": "execute_result"
    }
   ],
   "source": [
    "ran_check(5,8,11)"
   ]
  },
  {
   "cell_type": "code",
   "execution_count": 89,
   "id": "a3e9da32",
   "metadata": {},
   "outputs": [],
   "source": [
    "def up_low(s):\n",
    "    text = []\n",
    "    word = []\n",
    "    #s = list(s)\n",
    "    #print(s)\n",
    "    for i in s:\n",
    "        if i.isupper():\n",
    "            text.append(i)\n",
    "        if i.islower():\n",
    "            word.append(i)\n",
    "        else:\n",
    "            pass\n",
    "    print (len(text))\n",
    "    print (len(word))\n",
    "            #i=i+1\n",
    "            #return len(calculate)"
   ]
  },
  {
   "cell_type": "code",
   "execution_count": 90,
   "id": "fffc74ff",
   "metadata": {},
   "outputs": [
    {
     "name": "stdout",
     "output_type": "stream",
     "text": [
      "4\n",
      "33\n"
     ]
    }
   ],
   "source": [
    "s = 'Hello Mr. Rogers, how are you this fine Tuesday?'\n",
    "up_low(s)"
   ]
  },
  {
   "cell_type": "code",
   "execution_count": 91,
   "id": "5025df23",
   "metadata": {},
   "outputs": [],
   "source": [
    "def up_low(s):\n",
    "    text = 0\n",
    "    word = 0\n",
    "    #s = list(s)\n",
    "    #print(s)\n",
    "    for i in s:\n",
    "        if i.isupper():\n",
    "            text = text+1\n",
    "        if i.islower():\n",
    "            word = word + 1\n",
    "        else:\n",
    "            pass\n",
    "    print (text)\n",
    "    print (word)\n",
    "            #i=i+1\n",
    "            #return len(calculate)"
   ]
  },
  {
   "cell_type": "code",
   "execution_count": 92,
   "id": "4c32d147",
   "metadata": {},
   "outputs": [
    {
     "name": "stdout",
     "output_type": "stream",
     "text": [
      "4\n",
      "33\n"
     ]
    }
   ],
   "source": [
    "s = 'Hello Mr. Rogers, how are you this fine Tuesday?'\n",
    "up_low(s)"
   ]
  },
  {
   "cell_type": "code",
   "execution_count": null,
   "id": "81b087ad",
   "metadata": {},
   "outputs": [],
   "source": []
  },
  {
   "cell_type": "code",
   "execution_count": null,
   "id": "62e1b2bd",
   "metadata": {},
   "outputs": [],
   "source": []
  },
  {
   "cell_type": "code",
   "execution_count": 93,
   "id": "36f2290a",
   "metadata": {},
   "outputs": [],
   "source": [
    "def up_low(s):\n",
    "    d = {'Upper':0, 'Lower':0}\n",
    "    \n",
    "    for i in s:\n",
    "        if i.isupper():\n",
    "            d['Upper'] = d['Upper']+1\n",
    "        elif i.islower():\n",
    "            d['Lower'] = d['Lower']+1\n",
    "        else:\n",
    "            pass\n",
    "    print(d['Upper'])\n",
    "    print(d['Lower'])"
   ]
  },
  {
   "cell_type": "code",
   "execution_count": 94,
   "id": "28aea609",
   "metadata": {},
   "outputs": [
    {
     "name": "stdout",
     "output_type": "stream",
     "text": [
      "4\n",
      "33\n"
     ]
    }
   ],
   "source": [
    "s = 'Hello Mr. Rogers, how are you this fine Tuesday?'\n",
    "up_low(s)"
   ]
  },
  {
   "cell_type": "code",
   "execution_count": 14,
   "id": "be61667f",
   "metadata": {},
   "outputs": [],
   "source": [
    "def unique_list(lst):\n",
    "    return list(set(lst))"
   ]
  },
  {
   "cell_type": "code",
   "execution_count": 15,
   "id": "7d99daec",
   "metadata": {},
   "outputs": [
    {
     "data": {
      "text/plain": [
       "[1, 2, 3, 4, 5]"
      ]
     },
     "execution_count": 15,
     "metadata": {},
     "output_type": "execute_result"
    }
   ],
   "source": [
    "unique_list([1,1,1,1,2,2,3,3,3,3,4,5])"
   ]
  },
  {
   "cell_type": "code",
   "execution_count": 20,
   "id": "4af8881b",
   "metadata": {},
   "outputs": [],
   "source": [
    "def unique_list(lst):\n",
    "    x = []\n",
    "    for i in lst:\n",
    "        if i not in x:\n",
    "            x.append(i)\n",
    "    return x"
   ]
  },
  {
   "cell_type": "code",
   "execution_count": 21,
   "id": "19ba3dbc",
   "metadata": {},
   "outputs": [
    {
     "data": {
      "text/plain": [
       "[1, 2, 3, 4, 5]"
      ]
     },
     "execution_count": 21,
     "metadata": {},
     "output_type": "execute_result"
    }
   ],
   "source": [
    "unique_list([1,1,1,1,2,2,3,3,3,3,4,5])"
   ]
  },
  {
   "cell_type": "code",
   "execution_count": 26,
   "id": "268d1db2",
   "metadata": {},
   "outputs": [],
   "source": [
    "def multiply(numbers):\n",
    "    total = 1\n",
    "    for i in numbers:\n",
    "        total = total*i\n",
    "    return total\n"
   ]
  },
  {
   "cell_type": "code",
   "execution_count": 27,
   "id": "43f5ca53",
   "metadata": {},
   "outputs": [
    {
     "data": {
      "text/plain": [
       "-24"
      ]
     },
     "execution_count": 27,
     "metadata": {},
     "output_type": "execute_result"
    }
   ],
   "source": [
    "multiply([1,2,3,-4])"
   ]
  },
  {
   "cell_type": "code",
   "execution_count": 56,
   "id": "9a6bbaae",
   "metadata": {},
   "outputs": [],
   "source": [
    "def palindrome(s):\n",
    "    #s= s.split()\n",
    "    s = s.replace(\" \",\"\")\n",
    "    return s == s[::-1]"
   ]
  },
  {
   "cell_type": "code",
   "execution_count": 59,
   "id": "28538ba8",
   "metadata": {},
   "outputs": [
    {
     "data": {
      "text/plain": [
       "True"
      ]
     },
     "execution_count": 59,
     "metadata": {},
     "output_type": "execute_result"
    }
   ],
   "source": [
    "palindrome('racecar')"
   ]
  },
  {
   "cell_type": "code",
   "execution_count": 60,
   "id": "0316b665",
   "metadata": {},
   "outputs": [
    {
     "data": {
      "text/plain": [
       "True"
      ]
     },
     "execution_count": 60,
     "metadata": {},
     "output_type": "execute_result"
    }
   ],
   "source": [
    "palindrome('nurses run')"
   ]
  },
  {
   "cell_type": "code",
   "execution_count": 61,
   "id": "270d03eb",
   "metadata": {},
   "outputs": [
    {
     "data": {
      "text/plain": [
       "False"
      ]
     },
     "execution_count": 61,
     "metadata": {},
     "output_type": "execute_result"
    }
   ],
   "source": [
    "palindrome('nurses fun')"
   ]
  },
  {
   "cell_type": "code",
   "execution_count": 53,
   "id": "615ae20f",
   "metadata": {},
   "outputs": [],
   "source": [
    "name = 'Sajal'"
   ]
  },
  {
   "cell_type": "code",
   "execution_count": 54,
   "id": "9df21fe4",
   "metadata": {},
   "outputs": [
    {
     "data": {
      "text/plain": [
       "'Sajal'"
      ]
     },
     "execution_count": 54,
     "metadata": {},
     "output_type": "execute_result"
    }
   ],
   "source": [
    "name"
   ]
  },
  {
   "cell_type": "code",
   "execution_count": 55,
   "id": "6a5deef6",
   "metadata": {},
   "outputs": [
    {
     "data": {
      "text/plain": [
       "'lajaS'"
      ]
     },
     "execution_count": 55,
     "metadata": {},
     "output_type": "execute_result"
    }
   ],
   "source": [
    "name[::-1]"
   ]
  },
  {
   "cell_type": "code",
   "execution_count": 81,
   "id": "971b078b",
   "metadata": {},
   "outputs": [],
   "source": [
    "import string\n",
    "def ispangram(str1):\n",
    "    alphabet=string.ascii_lowercase\n",
    "    alphaset = set(alphabet)\n",
    "    str1 = str1.replace(' ','')\n",
    "    str1 = str1.lower()\n",
    "    str1 = set(str1)\n",
    "    return str1==alphaset"
   ]
  },
  {
   "cell_type": "code",
   "execution_count": 82,
   "id": "39d82671",
   "metadata": {},
   "outputs": [
    {
     "data": {
      "text/plain": [
       "True"
      ]
     },
     "execution_count": 82,
     "metadata": {},
     "output_type": "execute_result"
    }
   ],
   "source": [
    "ispangram(\"The quick brown fox jumps over the lazy dog\")"
   ]
  },
  {
   "cell_type": "code",
   "execution_count": 66,
   "id": "b39149a5",
   "metadata": {},
   "outputs": [
    {
     "data": {
      "text/plain": [
       "False"
      ]
     },
     "execution_count": 66,
     "metadata": {},
     "output_type": "execute_result"
    }
   ],
   "source": [
    "ispangram(\"The quick brown fox over the lazy dog\")"
   ]
  },
  {
   "cell_type": "code",
   "execution_count": null,
   "id": "37574eba",
   "metadata": {},
   "outputs": [],
   "source": []
  }
 ],
 "metadata": {
  "kernelspec": {
   "display_name": "Python 3 (ipykernel)",
   "language": "python",
   "name": "python3"
  },
  "language_info": {
   "codemirror_mode": {
    "name": "ipython",
    "version": 3
   },
   "file_extension": ".py",
   "mimetype": "text/x-python",
   "name": "python",
   "nbconvert_exporter": "python",
   "pygments_lexer": "ipython3",
   "version": "3.9.13"
  }
 },
 "nbformat": 4,
 "nbformat_minor": 5
}
