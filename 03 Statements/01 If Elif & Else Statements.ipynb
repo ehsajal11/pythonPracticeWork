{
 "cells": [
  {
   "cell_type": "code",
   "execution_count": 1,
   "id": "c2ee4fda",
   "metadata": {},
   "outputs": [
    {
     "name": "stdout",
     "output_type": "stream",
     "text": [
      "Its True\n"
     ]
    }
   ],
   "source": [
    "if True:\n",
    "    print(\"Its True\")"
   ]
  },
  {
   "cell_type": "code",
   "execution_count": 2,
   "id": "53a2b058",
   "metadata": {},
   "outputs": [
    {
     "name": "stdout",
     "output_type": "stream",
     "text": [
      "Its True\n"
     ]
    }
   ],
   "source": [
    "if 3>2:\n",
    "    print('Its True')"
   ]
  },
  {
   "cell_type": "code",
   "execution_count": 3,
   "id": "c158e391",
   "metadata": {},
   "outputs": [
    {
     "name": "stdout",
     "output_type": "stream",
     "text": [
      "Feed Me!\n"
     ]
    }
   ],
   "source": [
    "hungry = True\n",
    "if hungry:\n",
    "    print(\"Feed Me!\")"
   ]
  },
  {
   "cell_type": "code",
   "execution_count": 4,
   "id": "d48a44ca",
   "metadata": {},
   "outputs": [],
   "source": [
    "hungry = False\n",
    "if hungry:\n",
    "    print(\"Feed Me!\")"
   ]
  },
  {
   "cell_type": "code",
   "execution_count": 5,
   "id": "df368e29",
   "metadata": {},
   "outputs": [
    {
     "name": "stdout",
     "output_type": "stream",
     "text": [
      "I'm not hungry\n"
     ]
    }
   ],
   "source": [
    "hungry = False\n",
    "if hungry:\n",
    "    print(\"Feed Me!\")\n",
    "else:\n",
    "    print(\"I'm not hungry\")"
   ]
  },
  {
   "cell_type": "code",
   "execution_count": 6,
   "id": "3ab93f64",
   "metadata": {},
   "outputs": [
    {
     "name": "stdout",
     "output_type": "stream",
     "text": [
      "Feed Me!\n"
     ]
    }
   ],
   "source": [
    "hungry = True\n",
    "if hungry:\n",
    "    print(\"Feed Me!\")\n",
    "else:\n",
    "    print(\"I'm not hungry\")"
   ]
  },
  {
   "cell_type": "code",
   "execution_count": 7,
   "id": "6a775d32",
   "metadata": {},
   "outputs": [
    {
     "name": "stdout",
     "output_type": "stream",
     "text": [
      "Money is cool!\n"
     ]
    }
   ],
   "source": [
    "loc = 'Bank'\n",
    "if loc=='Bank':\n",
    "    print('Money is cool!')\n",
    "elif loc == 'Auto Shop':\n",
    "    print('Cars are Cool!')\n",
    "elif loc == 'Store':\n",
    "    print('Welcome to store')\n",
    "else:\n",
    "    print('I do not know much')"
   ]
  },
  {
   "cell_type": "code",
   "execution_count": 8,
   "id": "b2c8304b",
   "metadata": {},
   "outputs": [
    {
     "name": "stdout",
     "output_type": "stream",
     "text": [
      "Welcome to store\n"
     ]
    }
   ],
   "source": [
    "loc = 'Store'\n",
    "if loc=='Bank':\n",
    "    print('Money is cool!')\n",
    "elif loc == 'Auto Shop':\n",
    "    print('Cars are Cool!')\n",
    "elif loc == 'Store':\n",
    "    print('Welcome to store')\n",
    "else:\n",
    "    print('I do not know much')"
   ]
  },
  {
   "cell_type": "code",
   "execution_count": 9,
   "id": "d4e2df67",
   "metadata": {},
   "outputs": [
    {
     "name": "stdout",
     "output_type": "stream",
     "text": [
      "I do not know much\n"
     ]
    }
   ],
   "source": [
    "loc = 'other'\n",
    "if loc=='Bank':\n",
    "    print('Money is cool!')\n",
    "elif loc == 'Auto Shop':\n",
    "    print('Cars are Cool!')\n",
    "elif loc == 'Store':\n",
    "    print('Welcome to store')\n",
    "else:\n",
    "    print('I do not know much')"
   ]
  },
  {
   "cell_type": "code",
   "execution_count": 11,
   "id": "36a4ea22",
   "metadata": {},
   "outputs": [
    {
     "name": "stdout",
     "output_type": "stream",
     "text": [
      "Hello Sammy\n"
     ]
    }
   ],
   "source": [
    "name = 'Sammy'\n",
    "if name== 'Frankie' :\n",
    "    print('Hello Frankie')\n",
    "elif name == 'Sammy':\n",
    "    print('Hello Sammy')\n",
    "else:\n",
    "    print('What is your name')"
   ]
  },
  {
   "cell_type": "code",
   "execution_count": 12,
   "id": "8f7de91e",
   "metadata": {},
   "outputs": [
    {
     "name": "stdout",
     "output_type": "stream",
     "text": [
      "Hello Frankie\n"
     ]
    }
   ],
   "source": [
    "name = 'Frankie'\n",
    "if name== 'Frankie' :\n",
    "    print('Hello Frankie')\n",
    "elif name == 'Sammy':\n",
    "    print('Hello Sammy')\n",
    "else:\n",
    "    print('What is your name')"
   ]
  },
  {
   "cell_type": "code",
   "execution_count": 13,
   "id": "4628e76d",
   "metadata": {},
   "outputs": [
    {
     "name": "stdout",
     "output_type": "stream",
     "text": [
      "What is your name\n"
     ]
    }
   ],
   "source": [
    "name = 'frankie'\n",
    "if name== 'Frankie' :\n",
    "    print('Hello Frankie')\n",
    "elif name == 'Sammy':\n",
    "    print('Hello Sammy')\n",
    "else:\n",
    "    print('What is your name')"
   ]
  },
  {
   "cell_type": "code",
   "execution_count": null,
   "id": "9a1d4801",
   "metadata": {},
   "outputs": [],
   "source": []
  }
 ],
 "metadata": {
  "kernelspec": {
   "display_name": "Python 3 (ipykernel)",
   "language": "python",
   "name": "python3"
  },
  "language_info": {
   "codemirror_mode": {
    "name": "ipython",
    "version": 3
   },
   "file_extension": ".py",
   "mimetype": "text/x-python",
   "name": "python",
   "nbconvert_exporter": "python",
   "pygments_lexer": "ipython3",
   "version": "3.9.13"
  }
 },
 "nbformat": 4,
 "nbformat_minor": 5
}
