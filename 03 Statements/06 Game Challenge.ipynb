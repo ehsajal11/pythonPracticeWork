{
 "cells": [
  {
   "cell_type": "code",
   "execution_count": 1,
   "id": "60bb755b",
   "metadata": {},
   "outputs": [],
   "source": [
    "import random\n",
    "num = random.randint(1,100)"
   ]
  },
  {
   "cell_type": "code",
   "execution_count": 2,
   "id": "22c70413",
   "metadata": {},
   "outputs": [
    {
     "data": {
      "text/plain": [
       "71"
      ]
     },
     "execution_count": 2,
     "metadata": {},
     "output_type": "execute_result"
    }
   ],
   "source": [
    "num"
   ]
  },
  {
   "cell_type": "code",
   "execution_count": 3,
   "id": "8855795f",
   "metadata": {},
   "outputs": [
    {
     "name": "stdout",
     "output_type": "stream",
     "text": [
      "WELCOME TO GUESS ME!\n",
      "I'm thinking of a number between 1 and 100\n",
      "If your guess is more than 10 away from my number, I'll tell you you're COLD\n",
      "If your guess is within 10 of my number, I'll tell you you're WARM\n",
      "If your guess is farther than your most recent guess, I'll say you're getting COLDER\n",
      "If your guess is closer than your most recent guess, I'll say you're getting WARMER\n",
      "LET'S PLAY!\n",
      "I'm thinking of a number between 1 and 100.\n",
      " What is your guess? 567\n",
      "OUT OF BOUNDS! Please try again: \n",
      "I'm thinking of a number between 1 and 100.\n",
      " What is your guess? 345\n",
      "OUT OF BOUNDS! Please try again: \n",
      "I'm thinking of a number between 1 and 100.\n",
      " What is your guess? 23\n",
      "Cold!\n",
      "I'm thinking of a number between 1 and 100.\n",
      " What is your guess? 45\n",
      "Warmer!\n",
      "Cold!\n",
      "I'm thinking of a number between 1 and 100.\n",
      " What is your guess? 78\n",
      "Warmer!\n",
      "Warm!\n",
      "I'm thinking of a number between 1 and 100.\n",
      " What is your guess? 71\n",
      "CONGRATULATIONS, YOU GUESSED IT IN ONLY 4 GUESSES!!\n"
     ]
    }
   ],
   "source": [
    "print(\"WELCOME TO GUESS ME!\")\n",
    "print(\"I'm thinking of a number between 1 and 100\")\n",
    "print(\"If your guess is more than 10 away from my number, I'll tell you you're COLD\")\n",
    "print(\"If your guess is within 10 of my number, I'll tell you you're WARM\")\n",
    "print(\"If your guess is farther than your most recent guess, I'll say you're getting COLDER\")\n",
    "print(\"If your guess is closer than your most recent guess, I'll say you're getting WARMER\")\n",
    "print(\"LET'S PLAY!\")\n",
    "guesses = [0]\n",
    "\n",
    "while True:\n",
    "    guess= int(input(\"I'm thinking of a number between 1 and 100.\\n What is your guess? \"))\n",
    "    \n",
    "    if guess<1 or guess>100:\n",
    "        print(\"OUT OF BOUNDS! Please try again: \")\n",
    "        continue\n",
    "    if guess==num:\n",
    "        print(f'CONGRATULATIONS, YOU GUESSED IT IN ONLY {len(guesses)} GUESSES!!')\n",
    "        break\n",
    "    guesses.append(guess)\n",
    "    \n",
    "    if guesses[-2]:\n",
    "        if abs(num-guess) < abs (num-guesses[-2]):\n",
    "            print(\"Warmer!\")\n",
    "        else:\n",
    "            print('Colder!')\n",
    "    if abs (num-guess) <= 10:\n",
    "        print(\"Warm!\")\n",
    "    else:\n",
    "        print('Cold!')"
   ]
  },
  {
   "cell_type": "code",
   "execution_count": null,
   "id": "762765a2",
   "metadata": {},
   "outputs": [],
   "source": []
  }
 ],
 "metadata": {
  "kernelspec": {
   "display_name": "Python 3 (ipykernel)",
   "language": "python",
   "name": "python3"
  },
  "language_info": {
   "codemirror_mode": {
    "name": "ipython",
    "version": 3
   },
   "file_extension": ".py",
   "mimetype": "text/x-python",
   "name": "python",
   "nbconvert_exporter": "python",
   "pygments_lexer": "ipython3",
   "version": "3.9.13"
  }
 },
 "nbformat": 4,
 "nbformat_minor": 5
}
