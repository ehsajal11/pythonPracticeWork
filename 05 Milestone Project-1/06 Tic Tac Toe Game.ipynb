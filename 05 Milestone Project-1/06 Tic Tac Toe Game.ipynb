{
 "cells": [
  {
   "cell_type": "code",
   "execution_count": 24,
   "id": "633c6e02",
   "metadata": {},
   "outputs": [],
   "source": [
    "from IPython.display import clear_output\n",
    "\n",
    "def display_board(board):\n",
    "    clear_output()\n",
    "    \n",
    "    print(board[7]+' || '+board[8]+' || '+board[9])\n",
    "    print('==||===||==')\n",
    "    print(board[4]+' || '+board[5]+' || '+board[6])\n",
    "    print('==||===||==')\n",
    "    print(board[1]+' || '+board[2]+' || '+board[3])"
   ]
  },
  {
   "cell_type": "code",
   "execution_count": 25,
   "id": "980a6cd0",
   "metadata": {},
   "outputs": [
    {
     "name": "stdout",
     "output_type": "stream",
     "text": [
      "  ||   ||  \n",
      "==||===||==\n",
      "  ||   ||  \n",
      "==||===||==\n",
      "  ||   ||  \n"
     ]
    }
   ],
   "source": [
    "board= [' ']*10\n",
    "display_board(board)"
   ]
  },
  {
   "cell_type": "code",
   "execution_count": 35,
   "id": "2e8e6763",
   "metadata": {},
   "outputs": [],
   "source": [
    "def player_input():\n",
    "    input_letter=''\n",
    "    \n",
    "    while input_letter not in ['X','O']:\n",
    "        input_letter=input('Player 1: Do you want to be X or O? ').upper()\n",
    "        if input_letter in ['X','O']:\n",
    "            if input_letter=='X':\n",
    "                player1=input_letter\n",
    "                player2= 'O'\n",
    "            if input_letter=='O':\n",
    "                player1=input_letter\n",
    "                player2= 'X'\n",
    "    return(player1,player2)\n",
    "            "
   ]
  },
  {
   "cell_type": "code",
   "execution_count": 36,
   "id": "e5efc094",
   "metadata": {},
   "outputs": [
    {
     "name": "stdout",
     "output_type": "stream",
     "text": [
      "Player 1: Do you want to be X or O? o\n"
     ]
    },
    {
     "data": {
      "text/plain": [
       "('O', 'X')"
      ]
     },
     "execution_count": 36,
     "metadata": {},
     "output_type": "execute_result"
    }
   ],
   "source": [
    "player_input()"
   ]
  },
  {
   "cell_type": "code",
   "execution_count": 2,
   "id": "153150c2",
   "metadata": {},
   "outputs": [],
   "source": [
    "board =['#','X','O','X','O','X','O','X','O','X']\n",
    "def display_board(board):\n",
    "    row1=\" {} | {} | {} \".format(board[1], board[2], board[3])\n",
    "    row2=\" {} | {} | {} \".format(board[4], board[5], board[6])\n",
    "    row3=\" {} | {} | {} \".format(board[7], board[8], board[9])\n",
    "    print()\n",
    "    print(row1)\n",
    "    print(row2)\n",
    "    print(row3)\n",
    "    print()"
   ]
  },
  {
   "cell_type": "code",
   "execution_count": 46,
   "id": "e7097ef0",
   "metadata": {},
   "outputs": [
    {
     "name": "stdout",
     "output_type": "stream",
     "text": [
      "Welcome to Tic Tac Toe Game\n",
      "\n",
      "   |   |   \n",
      "   |   |   \n",
      "   |   |   \n",
      "\n"
     ]
    }
   ],
   "source": [
    "display_board(board)"
   ]
  },
  {
   "cell_type": "code",
   "execution_count": 4,
   "id": "864d48ec",
   "metadata": {},
   "outputs": [],
   "source": [
    "def player_choice():\n",
    "    print(\"Hey Player 1: Do you want to be X or O\")\n",
    "    choice=''\n",
    "    while choice not in ('X','O'):\n",
    "        choice= input('Player 1: Choose X or O: ').upper()\n",
    "        print()\n",
    "        if choice not in ('X','O',' '):\n",
    "            print('Invalid Key! Please select X or O')\n",
    "        if choice=='X':\n",
    "            return ('X','O')\n",
    "        if choice=='O':\n",
    "            return ('O','X')"
   ]
  },
  {
   "cell_type": "code",
   "execution_count": 37,
   "id": "26dca0a9",
   "metadata": {},
   "outputs": [
    {
     "name": "stdout",
     "output_type": "stream",
     "text": [
      "Hey Player 1: Do you want to be X or O\n",
      "Player 1: Choose X or O: x\n",
      "\n"
     ]
    },
    {
     "data": {
      "text/plain": [
       "('X', 'O')"
      ]
     },
     "execution_count": 37,
     "metadata": {},
     "output_type": "execute_result"
    }
   ],
   "source": [
    "player_choice()\n",
    "    \n",
    "    "
   ]
  },
  {
   "cell_type": "code",
   "execution_count": 5,
   "id": "b79e0bb9",
   "metadata": {},
   "outputs": [],
   "source": [
    "def replacement_position(board,choice,position):\n",
    "    board[position]=choice"
   ]
  },
  {
   "cell_type": "code",
   "execution_count": 65,
   "id": "e84353ec",
   "metadata": {},
   "outputs": [
    {
     "name": "stdout",
     "output_type": "stream",
     "text": [
      "Welcome to Tic Tac Toe Game\n",
      "\n",
      "   |   |   \n",
      "   |   |   \n",
      " T | T |   \n",
      "\n"
     ]
    }
   ],
   "source": [
    "replacement_position(board,'T',8)\n",
    "display_board(board)"
   ]
  },
  {
   "cell_type": "code",
   "execution_count": 6,
   "id": "3d97a3e9",
   "metadata": {},
   "outputs": [],
   "source": [
    "def win_check(board,choice):\n",
    "    return ((board[1]==choice and board[2]==choice and board[3]==choice) or \n",
    "            (board[4]==choice and board[5]==choice and board[6]==choice) or \n",
    "            (board[7]==choice and board[8]==choice and board[9]==choice) or\n",
    "            (board[1]==choice and board[4]==choice and board[7]==choice) or\n",
    "            (board[2]==choice and board[5]==choice and board[8]==choice) or\n",
    "            (board[3]==choice and board[6]==choice and board[9]==choice) or\n",
    "            (board[1]==choice and board[5]==choice and board[9]==choice) or\n",
    "            (board[3]==choice and board[5]==choice and board[7]==choice))"
   ]
  },
  {
   "cell_type": "code",
   "execution_count": 71,
   "id": "2dbd059c",
   "metadata": {},
   "outputs": [
    {
     "data": {
      "text/plain": [
       "True"
      ]
     },
     "execution_count": 71,
     "metadata": {},
     "output_type": "execute_result"
    }
   ],
   "source": [
    "board =['#','X','O','X','O','X','O','X','O','X']\n",
    "win_check(board,'X')\n",
    "\n"
   ]
  },
  {
   "cell_type": "code",
   "execution_count": 7,
   "id": "2d2a3392",
   "metadata": {},
   "outputs": [],
   "source": [
    "def board_position(board):\n",
    "    position='Wrong'\n",
    "    number=False\n",
    "    while position.isdigit()==False or number==False:\n",
    "        position=input(\"Enter a number from (1-9): \")\n",
    "        if position.isdigit()==False:\n",
    "            print()\n",
    "            print(\"Invalid Number! Enter a number from (1-9): \")\n",
    "            print()\n",
    "        if position.isdigit()==True and int(position) not in range(1,10):\n",
    "            print()\n",
    "            print(\"Invalid Number! Enter a number from (1-9): \")\n",
    "            print()\n",
    "        if position.isdigit()==True and int(position) in range(1,10):\n",
    "            number=True\n",
    "    return int(position)"
   ]
  },
  {
   "cell_type": "code",
   "execution_count": 74,
   "id": "f3d595df",
   "metadata": {},
   "outputs": [
    {
     "name": "stdout",
     "output_type": "stream",
     "text": [
      "Enter a number from (1-9): 6\n"
     ]
    },
    {
     "data": {
      "text/plain": [
       "6"
      ]
     },
     "execution_count": 74,
     "metadata": {},
     "output_type": "execute_result"
    }
   ],
   "source": [
    "board_position(board)"
   ]
  },
  {
   "cell_type": "code",
   "execution_count": 8,
   "id": "952e4590",
   "metadata": {},
   "outputs": [],
   "source": [
    "def replay():\n",
    "    return input('Do you want to play again? Enter Yes or No: ').lower().startswith('y')"
   ]
  },
  {
   "cell_type": "code",
   "execution_count": 21,
   "id": "61588c26",
   "metadata": {},
   "outputs": [],
   "source": []
  },
  {
   "cell_type": "code",
   "execution_count": null,
   "id": "1104a3d1",
   "metadata": {},
   "outputs": [
    {
     "name": "stdout",
     "output_type": "stream",
     "text": [
      "Welcome to Tic Tac Toe Game\n",
      "Hey Player 1: Do you want to be X or O\n",
      "Player 1: Choose X or O: x\n",
      "\n",
      "\n",
      "   |   |   \n",
      "   |   |   \n",
      "   |   |   \n",
      "\n",
      "Enter a number from (1-9): 2\n",
      "\n",
      "   | X |   \n",
      "   |   |   \n",
      "   |   |   \n",
      "\n",
      "Hey Player 1: Do you want to be X or O\n",
      "Player 1: Choose X or O: o\n",
      "\n",
      "\n",
      "   |   |   \n",
      "   |   |   \n",
      "   |   |   \n",
      "\n",
      "Enter a number from (1-9): 4\n",
      "\n",
      "   |   |   \n",
      " O |   |   \n",
      "   |   |   \n",
      "\n",
      "Hey Player 1: Do you want to be X or O\n",
      "Player 1: Choose X or O: x\n",
      "\n",
      "\n",
      "   |   |   \n",
      "   |   |   \n",
      "   |   |   \n",
      "\n"
     ]
    }
   ],
   "source": [
    "print(\"Welcome to Tic Tac Toe Game\")\n",
    "game_on=True\n",
    "while game_on==True:\n",
    "    board =['#',' ',' ',' ',' ',' ',' ',' ',' ',' ']\n",
    "    player1,player2=player_choice()\n",
    "    display_board(board)\n",
    "    position=board_position(board)\n",
    "    replacement_position(board,player1,position)\n",
    "    display_board(board)\n",
    "    if win_check(board,player2):\n",
    "        display_board(board)\n",
    "        print('Player 2 has won!')\n",
    "        game_on = False\n",
    "    if win_check(board,player1):\n",
    "        display_board(board)\n",
    "        print('Player 1 has won!')\n",
    "        game_on = False\n"
   ]
  },
  {
   "cell_type": "code",
   "execution_count": 23,
   "id": "6ba73b82",
   "metadata": {},
   "outputs": [],
   "source": []
  },
  {
   "cell_type": "code",
   "execution_count": null,
   "id": "fdcc14d5",
   "metadata": {},
   "outputs": [],
   "source": []
  },
  {
   "cell_type": "code",
   "execution_count": null,
   "id": "99d8afbf",
   "metadata": {},
   "outputs": [],
   "source": []
  },
  {
   "cell_type": "code",
   "execution_count": null,
   "id": "390181e5",
   "metadata": {},
   "outputs": [],
   "source": []
  }
 ],
 "metadata": {
  "kernelspec": {
   "display_name": "Python 3 (ipykernel)",
   "language": "python",
   "name": "python3"
  },
  "language_info": {
   "codemirror_mode": {
    "name": "ipython",
    "version": 3
   },
   "file_extension": ".py",
   "mimetype": "text/x-python",
   "name": "python",
   "nbconvert_exporter": "python",
   "pygments_lexer": "ipython3",
   "version": "3.9.13"
  }
 },
 "nbformat": 4,
 "nbformat_minor": 5
}
