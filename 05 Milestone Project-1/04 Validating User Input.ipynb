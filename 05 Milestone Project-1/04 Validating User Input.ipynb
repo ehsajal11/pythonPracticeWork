{
 "cells": [
  {
   "cell_type": "code",
   "execution_count": 1,
   "id": "27d91d1b",
   "metadata": {},
   "outputs": [],
   "source": [
    "def display(row1,row2,row3):\n",
    "    print(row1)\n",
    "    print(row2)\n",
    "    print(row3)"
   ]
  },
  {
   "cell_type": "code",
   "execution_count": 2,
   "id": "d8ef0f32",
   "metadata": {},
   "outputs": [],
   "source": [
    "row1 = [' ',' ',' ']\n",
    "row2 = [' ',' ',' ']\n",
    "row3 = [' ',' ',' ']"
   ]
  },
  {
   "cell_type": "code",
   "execution_count": 3,
   "id": "4842653e",
   "metadata": {},
   "outputs": [
    {
     "name": "stdout",
     "output_type": "stream",
     "text": [
      "[' ', ' ', ' ']\n",
      "[' ', ' ', ' ']\n",
      "[' ', ' ', ' ']\n"
     ]
    }
   ],
   "source": [
    "display(row1,row2,row3)"
   ]
  },
  {
   "cell_type": "code",
   "execution_count": 5,
   "id": "a6fcf8d2",
   "metadata": {},
   "outputs": [],
   "source": [
    "some_value = '100'"
   ]
  },
  {
   "cell_type": "code",
   "execution_count": 6,
   "id": "92922420",
   "metadata": {},
   "outputs": [
    {
     "data": {
      "text/plain": [
       "True"
      ]
     },
     "execution_count": 6,
     "metadata": {},
     "output_type": "execute_result"
    }
   ],
   "source": [
    "some_value.isdigit()"
   ]
  },
  {
   "cell_type": "code",
   "execution_count": 7,
   "id": "6550bd04",
   "metadata": {},
   "outputs": [],
   "source": [
    "some_value = 'new'"
   ]
  },
  {
   "cell_type": "code",
   "execution_count": 8,
   "id": "798f8c3c",
   "metadata": {},
   "outputs": [
    {
     "data": {
      "text/plain": [
       "False"
      ]
     },
     "execution_count": 8,
     "metadata": {},
     "output_type": "execute_result"
    }
   ],
   "source": [
    "some_value.isdigit()"
   ]
  },
  {
   "cell_type": "code",
   "execution_count": 10,
   "id": "7f5cb8be",
   "metadata": {},
   "outputs": [
    {
     "name": "stdout",
     "output_type": "stream",
     "text": [
      "Enter a number between (0-10): 100\n"
     ]
    },
    {
     "data": {
      "text/plain": [
       "'100'"
      ]
     },
     "execution_count": 10,
     "metadata": {},
     "output_type": "execute_result"
    }
   ],
   "source": [
    "input('Enter a number between (0-10): ')"
   ]
  },
  {
   "cell_type": "code",
   "execution_count": 2,
   "id": "70196ff8",
   "metadata": {},
   "outputs": [],
   "source": [
    "def user_choice():\n",
    "    choice=input(\"Please input a number in (0-10): \")\n",
    "    \n",
    "    return int(choice)"
   ]
  },
  {
   "cell_type": "code",
   "execution_count": 5,
   "id": "9e4e5710",
   "metadata": {},
   "outputs": [
    {
     "name": "stdout",
     "output_type": "stream",
     "text": [
      "Please input a number in (0-10): 11\n"
     ]
    },
    {
     "data": {
      "text/plain": [
       "11"
      ]
     },
     "execution_count": 5,
     "metadata": {},
     "output_type": "execute_result"
    }
   ],
   "source": [
    "user_choice()"
   ]
  },
  {
   "cell_type": "code",
   "execution_count": 1,
   "id": "28f12f3a",
   "metadata": {},
   "outputs": [],
   "source": [
    "def user_choice():\n",
    "    \n",
    "    choice='Wrong'\n",
    "    number_range = range(0,10)\n",
    "    number_logic = False\n",
    "    \n",
    "    \n",
    "    while choice.isdigit()==False or number_logic==False:\n",
    "        choice=input(\"Please input a number in (0-10): \")\n",
    "        \n",
    "        if choice.isdigit()==False:\n",
    "            print(\"It's not a digit\")\n",
    "         \n",
    "        elif choice.isdigit()==True:\n",
    "            if int(choice) not in number_range:\n",
    "                print('Provide a number between 0 to 10')\n",
    "            elif int(choice) in number_range:\n",
    "                number_logic=True\n",
    "        \n",
    "        \n",
    "    \n",
    "        \n",
    "    \n",
    "    return int(choice)"
   ]
  },
  {
   "cell_type": "code",
   "execution_count": 2,
   "id": "d9417bc0",
   "metadata": {},
   "outputs": [
    {
     "name": "stdout",
     "output_type": "stream",
     "text": [
      "Please input a number in (0-10): rrr\n",
      "It's not a digit\n",
      "Please input a number in (0-10): ddd\n",
      "It's not a digit\n",
      "Please input a number in (0-10): 111\n",
      "Provide a number between 0 to 10\n",
      "Please input a number in (0-10): 2\n"
     ]
    },
    {
     "data": {
      "text/plain": [
       "2"
      ]
     },
     "execution_count": 2,
     "metadata": {},
     "output_type": "execute_result"
    }
   ],
   "source": [
    "user_choice()"
   ]
  },
  {
   "cell_type": "code",
   "execution_count": 3,
   "id": "1103d722",
   "metadata": {},
   "outputs": [],
   "source": [
    "#target- take input from user that in number 0-10"
   ]
  },
  {
   "cell_type": "code",
   "execution_count": 1,
   "id": "8d04d5ad",
   "metadata": {},
   "outputs": [],
   "source": [
    "def user_choice():\n",
    "    #empty=''\n",
    "    choice = 'Wrong'\n",
    "    number_range= range(0,10)\n",
    "    number_range_check = False\n",
    "    \n",
    "    while choice.isdigit()==False or number_range_check==False:\n",
    "        choice= input(\"Please Enter a Digit Between (0-10): \")\n",
    "        \n",
    "        if len(choice)==False:\n",
    "            print('Its empty')\n",
    "        if choice.isdigit()==False:\n",
    "            print(\"This is not a digit\")\n",
    "            #if choice.isdigit()==False:\n",
    "                \n",
    "\n",
    "        if choice.isdigit()==True:\n",
    "            if int(choice) in number_range:\n",
    "                number_range_check = True\n",
    "            elif int(choice) not in number_range:\n",
    "                print('Out of range')\n",
    "    return int(choice)"
   ]
  },
  {
   "cell_type": "code",
   "execution_count": 2,
   "id": "e22cf66f",
   "metadata": {},
   "outputs": [
    {
     "name": "stdout",
     "output_type": "stream",
     "text": [
      "Please Enter a Digit Between (0-10): \n",
      "Its empty\n",
      "This is not a digit\n",
      "Please Enter a Digit Between (0-10): rrr\n",
      "This is not a digit\n",
      "Please Enter a Digit Between (0-10): 1\n"
     ]
    },
    {
     "data": {
      "text/plain": [
       "1"
      ]
     },
     "execution_count": 2,
     "metadata": {},
     "output_type": "execute_result"
    }
   ],
   "source": [
    "user_choice()"
   ]
  },
  {
   "cell_type": "code",
   "execution_count": 11,
   "id": "f8b47720",
   "metadata": {},
   "outputs": [],
   "source": [
    "def user_choice():\n",
    "    choice = 'Wrong'\n",
    "    number = range(0,10)\n",
    "    number_range= False\n",
    "    \n",
    "    while choice.isdigit()==False or number_range==False:\n",
    "        choice=input('Enter a number between (0-10): ')\n",
    "        if choice.isdigit()==False:\n",
    "            print('Its not a digit')\n",
    "        if choice.isdigit()==True:\n",
    "            if int(choice) in number:\n",
    "                number_range=True\n",
    "            if int(choice) not in number:\n",
    "                print('Out of range')\n",
    "            \n",
    "            \n",
    "    return int(choice)"
   ]
  },
  {
   "cell_type": "code",
   "execution_count": 12,
   "id": "0e7ebc50",
   "metadata": {},
   "outputs": [
    {
     "name": "stdout",
     "output_type": "stream",
     "text": [
      "Enter a number between (0-10): rrr\n",
      "Its not a digit\n",
      "Enter a number between (0-10): rere\n",
      "Its not a digit\n",
      "Enter a number between (0-10): 111\n",
      "Out of range\n",
      "Enter a number between (0-10): 1212\n",
      "Out of range\n",
      "Enter a number between (0-10): 2\n"
     ]
    },
    {
     "data": {
      "text/plain": [
       "2"
      ]
     },
     "execution_count": 12,
     "metadata": {},
     "output_type": "execute_result"
    }
   ],
   "source": [
    "user_choice()"
   ]
  },
  {
   "cell_type": "code",
   "execution_count": 11,
   "id": "866f8cfc",
   "metadata": {},
   "outputs": [],
   "source": [
    "def user_choice():\n",
    "    choice = 'Wrong'\n",
    "    \n",
    "    number_range=range(0,11)\n",
    "    \n",
    "    len_verification= False\n",
    "    while choice.isdigit()==False or len_verification==False:\n",
    "        choice=input(\"Enter a number between (0-10): \")\n",
    "        \n",
    "        if choice.isdigit()==False:\n",
    "            print(\"It's not a digit, Please enter a digit\")\n",
    "            \n",
    "        if choice.isdigit()==True:\n",
    "        \n",
    "            if int(choice) in number_range:\n",
    "                len_verification= True\n",
    "            if int(choice) not in number_range:\n",
    "                print('Please Enter a digit form 0 to 10')\n",
    "        \n",
    "    return int(choice)"
   ]
  },
  {
   "cell_type": "code",
   "execution_count": 12,
   "id": "646d8958",
   "metadata": {},
   "outputs": [
    {
     "name": "stdout",
     "output_type": "stream",
     "text": [
      "Enter a number between (0-10): 10\n"
     ]
    },
    {
     "data": {
      "text/plain": [
       "10"
      ]
     },
     "execution_count": 12,
     "metadata": {},
     "output_type": "execute_result"
    }
   ],
   "source": [
    "user_choice()"
   ]
  },
  {
   "cell_type": "code",
   "execution_count": 138,
   "id": "359dbd99",
   "metadata": {},
   "outputs": [],
   "source": [
    "words = [\"cat\",\"cats\",\"catsdogcats\",\"dog\",\"dogcatsdog\",\"hippopotamuses\",\"cat\",\"ratcatdogcat\"]"
   ]
  },
  {
   "cell_type": "code",
   "execution_count": 143,
   "id": "83985b88",
   "metadata": {},
   "outputs": [
    {
     "ename": "SyntaxError",
     "evalue": "invalid syntax (3263834640.py, line 8)",
     "output_type": "error",
     "traceback": [
      "\u001b[1;36m  File \u001b[1;32m\"C:\\Users\\Enamul Haque Sajal\\AppData\\Local\\Temp\\ipykernel_4064\\3263834640.py\"\u001b[1;36m, line \u001b[1;32m8\u001b[0m\n\u001b[1;33m    if i[0+1]==i[]:\u001b[0m\n\u001b[1;37m                 ^\u001b[0m\n\u001b[1;31mSyntaxError\u001b[0m\u001b[1;31m:\u001b[0m invalid syntax\n"
     ]
    }
   ],
   "source": [
    "#prcaticed but not done, this is a leetcode problem\n",
    "\n",
    "\n",
    "\n",
    "def concatenatedwords(words):\n",
    "    name=[]\n",
    "    for i in words:\n",
    "       # if i[0+1]==i[]:\n",
    "            name.append(i)\n",
    "            #i=i+1\n",
    "    return name"
   ]
  },
  {
   "cell_type": "code",
   "execution_count": 140,
   "id": "aa5e9380",
   "metadata": {},
   "outputs": [
    {
     "data": {
      "text/plain": [
       "['CAT']"
      ]
     },
     "execution_count": 140,
     "metadata": {},
     "output_type": "execute_result"
    }
   ],
   "source": [
    "concatenatedwords(words)"
   ]
  },
  {
   "cell_type": "code",
   "execution_count": 103,
   "id": "50fd0eea",
   "metadata": {},
   "outputs": [
    {
     "data": {
      "text/plain": [
       "'Catcats'"
      ]
     },
     "execution_count": 103,
     "metadata": {},
     "output_type": "execute_result"
    }
   ],
   "source": [
    "words[0]+words[1]"
   ]
  },
  {
   "cell_type": "code",
   "execution_count": 84,
   "id": "41ab0587",
   "metadata": {},
   "outputs": [
    {
     "data": {
      "text/plain": [
       "['CAT',\n",
       " 'cats',\n",
       " 'Catsdogcats',\n",
       " 'dog',\n",
       " 'dogcatsdog',\n",
       " 'hippopotamuses',\n",
       " 'rat',\n",
       " 'ratcatdogcat']"
      ]
     },
     "execution_count": 84,
     "metadata": {},
     "output_type": "execute_result"
    }
   ],
   "source": [
    "words"
   ]
  },
  {
   "cell_type": "code",
   "execution_count": 95,
   "id": "f6767451",
   "metadata": {},
   "outputs": [
    {
     "data": {
      "text/plain": [
       "'A'"
      ]
     },
     "execution_count": 95,
     "metadata": {},
     "output_type": "execute_result"
    }
   ],
   "source": [
    "words[1][1].upper()"
   ]
  },
  {
   "cell_type": "code",
   "execution_count": null,
   "id": "986cca67",
   "metadata": {},
   "outputs": [],
   "source": []
  }
 ],
 "metadata": {
  "kernelspec": {
   "display_name": "Python 3 (ipykernel)",
   "language": "python",
   "name": "python3"
  },
  "language_info": {
   "codemirror_mode": {
    "name": "ipython",
    "version": 3
   },
   "file_extension": ".py",
   "mimetype": "text/x-python",
   "name": "python",
   "nbconvert_exporter": "python",
   "pygments_lexer": "ipython3",
   "version": "3.9.13"
  }
 },
 "nbformat": 4,
 "nbformat_minor": 5
}
