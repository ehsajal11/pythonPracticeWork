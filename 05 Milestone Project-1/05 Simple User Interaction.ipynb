{
 "cells": [
  {
   "cell_type": "code",
   "execution_count": 1,
   "id": "bf38e2ea",
   "metadata": {},
   "outputs": [],
   "source": [
    "game_list=[0,1,2]"
   ]
  },
  {
   "cell_type": "code",
   "execution_count": 27,
   "id": "1796a2c6",
   "metadata": {},
   "outputs": [],
   "source": [
    "def display_game(game_list):\n",
    "    print(\"Here is your current list: \")\n",
    "    print(game_list)"
   ]
  },
  {
   "cell_type": "code",
   "execution_count": 28,
   "id": "cb0abdb4",
   "metadata": {},
   "outputs": [
    {
     "name": "stdout",
     "output_type": "stream",
     "text": [
      "Here is your current list: \n",
      "['New Value', 'Another Value', '2']\n"
     ]
    }
   ],
   "source": [
    "display_game(game_list)"
   ]
  },
  {
   "cell_type": "code",
   "execution_count": 16,
   "id": "c93f711b",
   "metadata": {},
   "outputs": [],
   "source": [
    "def position_choice():\n",
    "    choice= ''\n",
    "    \n",
    "    while choice not in ['0','1','2']:\n",
    "        \n",
    "        choice = input(\"Pick a position (0,1,2): \")\n",
    "        \n",
    "        if choice not in ['0','1','2']:\n",
    "            print(\"Sorry! Invalid Number\")\n",
    "        #game_list[position] = choice\n",
    "            \n",
    "            \n",
    "    return int(choice)"
   ]
  },
  {
   "cell_type": "code",
   "execution_count": 17,
   "id": "32b65486",
   "metadata": {},
   "outputs": [
    {
     "name": "stdout",
     "output_type": "stream",
     "text": [
      "Pick a position (0,1,2): ee\n",
      "Sorry! Invalid Number\n",
      "Pick a position (0,1,2): wee\n",
      "Sorry! Invalid Number\n",
      "Pick a position (0,1,2): 1\n"
     ]
    },
    {
     "data": {
      "text/plain": [
       "1"
      ]
     },
     "execution_count": 17,
     "metadata": {},
     "output_type": "execute_result"
    }
   ],
   "source": [
    "position_choice()"
   ]
  },
  {
   "cell_type": "code",
   "execution_count": 18,
   "id": "621cf599",
   "metadata": {},
   "outputs": [],
   "source": [
    "def replacement_position(game_list,position):\n",
    "    user_placement=input(\"Type a string to change the position\")\n",
    "    game_list[position]=user_placement\n",
    "    return game_list\n",
    "    "
   ]
  },
  {
   "cell_type": "code",
   "execution_count": 21,
   "id": "89db06e1",
   "metadata": {},
   "outputs": [
    {
     "name": "stdout",
     "output_type": "stream",
     "text": [
      "Type a string to change the positionHi\n"
     ]
    },
    {
     "data": {
      "text/plain": [
       "['Hi', 'new', 2]"
      ]
     },
     "execution_count": 21,
     "metadata": {},
     "output_type": "execute_result"
    }
   ],
   "source": [
    "replacement_position(game_list,0)"
   ]
  },
  {
   "cell_type": "code",
   "execution_count": 22,
   "id": "8b6682a9",
   "metadata": {},
   "outputs": [
    {
     "data": {
      "text/plain": [
       "['Hi', 'new', 2]"
      ]
     },
     "execution_count": 22,
     "metadata": {},
     "output_type": "execute_result"
    }
   ],
   "source": [
    "game_list"
   ]
  },
  {
   "cell_type": "code",
   "execution_count": 24,
   "id": "af6882d2",
   "metadata": {},
   "outputs": [],
   "source": [
    "def gameon_choice():\n",
    "    choice=''\n",
    "    while choice not in ['Y','N']:\n",
    "        choice = input('Keep playing! (Y or N): ')\n",
    "        if choice not in ['Y','N']:\n",
    "            print(\"Sorry! I don't understand, please choose Y or N \")\n",
    "    if choice=='Y':\n",
    "        return True\n",
    "    if choice=='N':\n",
    "        return False\n",
    "            "
   ]
  },
  {
   "cell_type": "code",
   "execution_count": 25,
   "id": "3fd2b207",
   "metadata": {},
   "outputs": [
    {
     "name": "stdout",
     "output_type": "stream",
     "text": [
      "Keep playing! (Y or N): two\n",
      "Sorry! I don't understand, please choose Y or N \n",
      "Keep playing! (Y or N): y\n",
      "Sorry! I don't understand, please choose Y or N \n",
      "Keep playing! (Y or N): Y\n"
     ]
    },
    {
     "data": {
      "text/plain": [
       "True"
      ]
     },
     "execution_count": 25,
     "metadata": {},
     "output_type": "execute_result"
    }
   ],
   "source": [
    "gameon_choice()"
   ]
  },
  {
   "cell_type": "code",
   "execution_count": 31,
   "id": "d4dcace0",
   "metadata": {},
   "outputs": [
    {
     "name": "stdout",
     "output_type": "stream",
     "text": [
      "Here is your current list: \n",
      "['0', '1', '2']\n",
      "Pick a position (0,1,2): 1\n",
      "Type a string to change the positionn\n",
      "Here is your current list: \n",
      "['0', 'n', '2']\n",
      "Keep playing! (Y or N): N\n"
     ]
    }
   ],
   "source": [
    "game_on= True\n",
    "\n",
    "game_list= ['0','1','2']\n",
    "\n",
    "while game_on:\n",
    "    \n",
    "    display_game(game_list)\n",
    "    position= position_choice()\n",
    "    \n",
    "    game_list = replacement_position(game_list,position)\n",
    "    \n",
    "    display_game(game_list)\n",
    "    \n",
    "    game_on= gameon_choice()\n",
    "    \n"
   ]
  },
  {
   "cell_type": "code",
   "execution_count": 32,
   "id": "38f336f7",
   "metadata": {},
   "outputs": [
    {
     "data": {
      "text/plain": [
       "['0', 'n', '2']"
      ]
     },
     "execution_count": 32,
     "metadata": {},
     "output_type": "execute_result"
    }
   ],
   "source": [
    "game_list"
   ]
  },
  {
   "cell_type": "code",
   "execution_count": null,
   "id": "a539c7e6",
   "metadata": {},
   "outputs": [],
   "source": []
  }
 ],
 "metadata": {
  "kernelspec": {
   "display_name": "Python 3 (ipykernel)",
   "language": "python",
   "name": "python3"
  },
  "language_info": {
   "codemirror_mode": {
    "name": "ipython",
    "version": 3
   },
   "file_extension": ".py",
   "mimetype": "text/x-python",
   "name": "python",
   "nbconvert_exporter": "python",
   "pygments_lexer": "ipython3",
   "version": "3.9.13"
  }
 },
 "nbformat": 4,
 "nbformat_minor": 5
}
