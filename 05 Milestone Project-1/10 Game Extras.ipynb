{
 "cells": [
  {
   "cell_type": "code",
   "execution_count": 1,
   "id": "9079b6e0",
   "metadata": {},
   "outputs": [],
   "source": [
    "def num_range_check():\n",
    "    position='Wrong'\n",
    "    number=False\n",
    "    while position.isdigit()==False or number==False:\n",
    "        position=input(\"Enter a number from (1-9): \")\n",
    "        if position.isdigit()==False:\n",
    "            print()\n",
    "            print(\"Invalid Number! Enter a number from (1-9): \")\n",
    "            print()\n",
    "        if position.isdigit()==True and int(position) not in range(1,10):\n",
    "            print()\n",
    "            print(\"Invalid Number! Enter a number from (1-9): \")\n",
    "            print()\n",
    "        if position.isdigit()==True and int(position) in range(1,10):\n",
    "            number=True\n",
    "        \n",
    "    return int(position)"
   ]
  },
  {
   "cell_type": "code",
   "execution_count": 3,
   "id": "5dba45ee",
   "metadata": {},
   "outputs": [
    {
     "name": "stdout",
     "output_type": "stream",
     "text": [
      "Enter a number from (1-9): 9\n"
     ]
    },
    {
     "data": {
      "text/plain": [
       "9"
      ]
     },
     "execution_count": 3,
     "metadata": {},
     "output_type": "execute_result"
    }
   ],
   "source": [
    "num_range_check()"
   ]
  },
  {
   "cell_type": "code",
   "execution_count": null,
   "id": "cea575ba",
   "metadata": {},
   "outputs": [],
   "source": []
  }
 ],
 "metadata": {
  "kernelspec": {
   "display_name": "Python 3 (ipykernel)",
   "language": "python",
   "name": "python3"
  },
  "language_info": {
   "codemirror_mode": {
    "name": "ipython",
    "version": 3
   },
   "file_extension": ".py",
   "mimetype": "text/x-python",
   "name": "python",
   "nbconvert_exporter": "python",
   "pygments_lexer": "ipython3",
   "version": "3.9.13"
  }
 },
 "nbformat": 4,
 "nbformat_minor": 5
}
